{
 "cells": [
  {
   "cell_type": "code",
   "execution_count": 1,
   "metadata": {
    "collapsed": false
   },
   "outputs": [
    {
     "name": "stdout",
     "output_type": "stream",
     "text": [
      "[[5.99999800000e-6 +/- 2.54e-18], [7.868336318107 +/- 9.01e-13], 3/500000, [1.17974630364531 +/- 3.10e-15]]\n",
      "[6.688602014460 +/- 5.93e-13]\n"
     ]
    }
   ],
   "source": [
    "def h(r):\n",
    "    if r == 0:\n",
    "        return 1\n",
    "    else:\n",
    "        return (sin(r)**4) / (r**4)\n",
    "\n",
    "\n",
    "def integrand1(r):\n",
    "    return r*(1 - (2*r**2)/3 + r**4/5)\n",
    "\n",
    "\n",
    "def integrand2(r):\n",
    "    return (h(r))*r*tanh(CBF(pi)*r)\n",
    "\n",
    "\n",
    "eps = 1/1000\n",
    "L = 1000\n",
    "\n",
    "genus = 7\n",
    "\n",
    "int1 = 2*(genus-1)*CBF.integral(lambda r, _: integrand1(r), 0, eps)\n",
    "\n",
    "int2 = 2*(genus-1)*CBF.integral(lambda r, _: integrand2(r), eps, L)\n",
    "\n",
    "int3 = 2*(genus-1)/(2*L**2)\n",
    "\n",
    "\n",
    "eval1 = h(CBF(I/2))\n",
    "result = (int1+int2+int3) - eval1\n",
    "\n",
    "print([int1,int2,int3, eval1])\n",
    "print(result)"
   ]
  },
  {
   "cell_type": "code",
   "execution_count": 0,
   "metadata": {
    "collapsed": false
   },
   "outputs": [
   ],
   "source": [
   ]
  }
 ],
 "metadata": {
  "kernelspec": {
   "argv": [
    "sage-10.1",
    "--python",
    "-m",
    "sage.repl.ipython_kernel",
    "--matplotlib=inline",
    "-f",
    "{connection_file}"
   ],
   "display_name": "SageMath 10.1",
   "env": {
   },
   "language": "sagemath",
   "metadata": {
    "cocalc": {
     "description": "Open-source mathematical software system",
     "priority": 10,
     "url": "https://www.sagemath.org/"
    }
   },
   "name": "sage-10.1",
   "resource_dir": "/ext/jupyter/kernels/sage-10.1"
  },
  "language_info": {
   "codemirror_mode": {
    "name": "ipython",
    "version": 3
   },
   "file_extension": ".py",
   "mimetype": "text/x-python",
   "name": "python",
   "nbconvert_exporter": "python",
   "pygments_lexer": "ipython3",
   "version": "3.11.1"
  }
 },
 "nbformat": 4,
 "nbformat_minor": 4
}