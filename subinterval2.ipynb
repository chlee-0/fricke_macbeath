{
 "cells": [
  {
   "cell_type": "code",
   "execution_count": 2,
   "metadata": {
    "collapsed": false
   },
   "outputs": [
    {
     "name": "stdout",
     "output_type": "stream",
     "text": [
      "[[831.2770 +/- 3.83e-5], [-180.9242 +/- 4.19e-5], [-110.5626 +/- 4.16e-5], [-38.3114 +/- 5.48e-5], [-20.5191 +/- 2.92e-5], [-12.9689 +/- 6.16e-5], [-9.0154 +/- 1.25e-5], [-6.6722 +/- 1.82e-5], [-5.1618 +/- 3.79e-5], [-4.1264 +/- 1.24e-5], [-3.3822 +/- 4.10e-5], [-2.8265 +/- 5.15e-5], [-2.3986 +/- 3.87e-5], [-2.0604 +/- 5.94e-5], [-1.7873 +/- 2.87e-5], [-1.5626 +/- 4.98e-5], [-1.3749 +/- 3.47e-5], [-1.2160 +/- 2.73e-5], [-1.0800 +/- 1.93e-5], [-0.9625 +/- 4.70e-5], [-0.8601 +/- 2.81e-5], [-0.7704 +/- 1.50e-5], [-0.6913 +/- 2.81e-5], [-0.6213 +/- 2.01e-5], [-0.5591 +/- 6.05e-5], [-0.5036 +/- 5.70e-5], [-0.4539 +/- 5.47e-5], [-0.4095 +/- 1.70e-5], [-0.3696 +/- 1.59e-5]]\n",
      "[0, 0, 0, 0, 0, 0, 0, 0, 0, 0, 0, 0, 0, 0, 0, 0, 0, 0, 0, 0, 0, 0, 0, 0, 0, 0, 0, [0.0002 +/- 4.14e-5], [35.5542 +/- 5.87e-5]]\n",
      "[[10.5474 +/- 8.22e-5], [3.7862015743726 +/- 8.03e-14], [6.7611 +/- 8.28e-5]]\n"
     ]
    }
   ],
   "source": [
    "def h(r, delta, j):\n",
    "    return (sin(delta * r / 2) / (delta * r / 2))**4 * cos(j * delta * r)\n",
    "\n",
    "\n",
    "def g(xi, delta, j):\n",
    "    return 1/(24 * delta**4) * (\n",
    "        6 * (xi - j * delta)**3 * sign(xi - j * delta) +\n",
    "        (xi - 2 * delta - j * delta)**3 * sign(xi - 2 * delta - j * delta) -\n",
    "        4 * (xi - delta - j * delta)**3 * sign(xi - delta - j * delta) -\n",
    "        4 * (xi + delta - j * delta)**3 * sign(xi + delta - j * delta) +\n",
    "        (xi + 2 * delta - j * delta)**3 * sign(xi + 2 * delta - j * delta) +\n",
    "        6 * (xi + j * delta)**3 * sign(xi + j * delta) +\n",
    "        (xi - 2 * delta + j * delta)**3 * sign(xi - 2 * delta + j * delta) -\n",
    "        4 * (xi - delta + j * delta)**3 * sign(xi - delta + j * delta) -\n",
    "        4 * (xi + delta + j * delta)**3 * sign(xi + delta + j * delta) +\n",
    "        (xi + 2 * delta + j * delta)**3 * sign(xi + 2 * delta + j * delta)\n",
    "    )\n",
    "\n",
    "#constants\n",
    "genus = 7\n",
    "z0 = RBF(9.09783467904, 10^-11)\n",
    "l0 = 2 * RBF(acosh(z0))\n",
    "mult0 = 252\n",
    "M = 15\n",
    "delta = 1/5\n",
    "# fix r\n",
    "r = 0.87\n",
    "#integral range\n",
    "eps = 10^-3\n",
    "L = 10^5\n",
    "\n",
    "\n",
    "def integrand2(j, r):\n",
    "    return h(r, delta, j)*r*tanh(CBF(pi)*r)\n",
    "\n",
    "\n",
    "genus = 7\n",
    "\n",
    "\n",
    "int_res = {}\n",
    "sum_res = {}\n",
    "\n",
    "for j in range(2 * M - 1):\n",
    "    if j<=26:\n",
    "        sum_res[j] = 0\n",
    "    else:\n",
    "        sum_res[j] = CBF(mult0 * l0 * g(l0, delta, j) / (2 * sinh(l0/2)))\n",
    "\n",
    "\n",
    "for j in range(2 * M - 1):\n",
    "    #int_res[j] = 2*(genus-1)*CBF.integral(lambda r, _: integrand2(j, r), eps, 10000)\n",
    "    int_res[j] = RBF(0, 1.2e-5)+2*(genus-1)*CBF.integral(lambda r, _: integrand2(j, r), eps, 10000)\n",
    "\n",
    "\n",
    "print([int_res[j] for j in range(2 * M-1)])\n",
    "print([sum_res[j] for j in range(2 * M-1)])\n",
    "\n",
    "\n",
    "a = lambda i, j: 1/2 * (int_res[abs(i - j)] + int_res[i + j] + sum_res[abs(i - j)] + sum_res[i + j])\n",
    "\n",
    "\n",
    "x = [\n",
    "    0.10495,\n",
    "    0.20797,\n",
    "    0.20226,\n",
    "    0.19294,\n",
    "    0.18032,\n",
    "    0.1648,\n",
    "    0.14688,\n",
    "    0.12715,\n",
    "    0.10628,\n",
    "    0.08497,\n",
    "    0.064,\n",
    "    0.04416,\n",
    "    0.02632,\n",
    "    0.01154,\n",
    "    0.00046\n",
    "]\n",
    "\n",
    "\n",
    "\n",
    "quadform = sum([a(i,j) * CBF(x[i]) * CBF(x[j]) for i in range(M) for j in range(M)])\n",
    "hr = lambda t: sum([(sin(delta * t/2)/(delta * t/2))^4 * cos(i * delta * t) * cos(j * delta * t) * CBF(x[i]) * CBF(x[j]) for i in range(M) for j in range(M)])\n",
    "\n",
    "val1 = quadform\n",
    "val2 = CBF(hr(I/2))\n",
    "\n",
    "print([val1,val2,val1-val2])"
   ]
  },
  {
   "cell_type": "code",
   "execution_count": 20,
   "metadata": {
    "collapsed": false
   },
   "outputs": [
    {
     "data": {
      "text/plain": [
       "[1.00001153402304 +/- 6.22e-15]"
      ]
     },
     "execution_count": 20,
     "metadata": {
     },
     "output_type": "execute_result"
    }
   ],
   "source": [
    "f = lambda t: sum([(sin(delta * t/2)/(delta * t/2))^2 * cos(i * delta * t) * CBF(x[i]) for i in range(M)])\n",
    "CBF(f(87/100))"
   ]
  }
 ],
 "metadata": {
  "kernelspec": {
   "argv": [
    "sage-10.1",
    "--python",
    "-m",
    "sage.repl.ipython_kernel",
    "--matplotlib=inline",
    "-f",
    "{connection_file}"
   ],
   "display_name": "SageMath 10.1",
   "env": {
   },
   "language": "sagemath",
   "metadata": {
    "cocalc": {
     "description": "Open-source mathematical software system",
     "priority": 10,
     "url": "https://www.sagemath.org/"
    }
   },
   "name": "sage-10.1",
   "resource_dir": "/ext/jupyter/kernels/sage-10.1"
  },
  "language_info": {
   "codemirror_mode": {
    "name": "ipython",
    "version": 3
   },
   "file_extension": ".py",
   "mimetype": "text/x-python",
   "name": "python",
   "nbconvert_exporter": "python",
   "pygments_lexer": "ipython3",
   "version": "3.11.1"
  }
 },
 "nbformat": 4,
 "nbformat_minor": 4
}